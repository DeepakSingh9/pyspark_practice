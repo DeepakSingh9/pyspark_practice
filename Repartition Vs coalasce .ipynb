{
 "cells": [
  {
   "cell_type": "markdown",
   "id": "b535e251",
   "metadata": {},
   "source": [
    "REPARTITION: \n",
    "* used to increase or decrease the number of partitions on RDD OR DATAFRAME ,before wide transformation (join,grouby).\n",
    "* it shuffles data across the cluster to make specified number of partitions"
   ]
  },
  {
   "cell_type": "code",
   "execution_count": 2,
   "id": "016604d1",
   "metadata": {},
   "outputs": [],
   "source": [
    "import findspark\n",
    "findspark.init()\n"
   ]
  },
  {
   "cell_type": "code",
   "execution_count": 5,
   "id": "1970d88e",
   "metadata": {},
   "outputs": [],
   "source": [
    "import pyspark\n",
    "from pyspark.sql import SparkSession\n",
    "sc = SparkSession.builder.appName('repartionvscoalesce').config(\"spark.driver.host\",'localhost').getOrCreate()"
   ]
  },
  {
   "cell_type": "code",
   "execution_count": 10,
   "id": "38c3b402",
   "metadata": {},
   "outputs": [],
   "source": [
    "spark = sc.sparkContext\n"
   ]
  },
  {
   "cell_type": "code",
   "execution_count": 12,
   "id": "b9a50a19",
   "metadata": {},
   "outputs": [
    {
     "data": {
      "text/html": [
       "\n",
       "        <div>\n",
       "            <p><b>SparkContext</b></p>\n",
       "\n",
       "            <p><a href=\"http://localhost:4040\">Spark UI</a></p>\n",
       "\n",
       "            <dl>\n",
       "              <dt>Version</dt>\n",
       "                <dd><code>v3.2.4</code></dd>\n",
       "              <dt>Master</dt>\n",
       "                <dd><code>local[*]</code></dd>\n",
       "              <dt>AppName</dt>\n",
       "                <dd><code>repartionvscoalesce</code></dd>\n",
       "            </dl>\n",
       "        </div>\n",
       "        "
      ],
      "text/plain": [
       "<SparkContext master=local[*] appName=repartionvscoalesce>"
      ]
     },
     "execution_count": 12,
     "metadata": {},
     "output_type": "execute_result"
    }
   ],
   "source": [
    "spark"
   ]
  },
  {
   "cell_type": "code",
   "execution_count": 8,
   "id": "b7ca7d2c",
   "metadata": {},
   "outputs": [],
   "source": [
    "df = [(\"apple\",200),(\"apple\",300),(\"grapes\",120),(\"orange\",230),(\"banana\",100)]"
   ]
  },
  {
   "cell_type": "code",
   "execution_count": 23,
   "id": "7a088b6a",
   "metadata": {},
   "outputs": [
    {
     "data": {
      "text/plain": [
       "4"
      ]
     },
     "execution_count": 23,
     "metadata": {},
     "output_type": "execute_result"
    }
   ],
   "source": [
    "rdd = spark.parallelize(df)\n",
    "rdd.getNumPartitions()"
   ]
  },
  {
   "cell_type": "code",
   "execution_count": 24,
   "id": "0cd93888",
   "metadata": {},
   "outputs": [
    {
     "data": {
      "text/plain": [
       "[('apple', 200),\n",
       " ('apple', 300),\n",
       " ('grapes', 120),\n",
       " ('orange', 230),\n",
       " ('banana', 100)]"
      ]
     },
     "execution_count": 24,
     "metadata": {},
     "output_type": "execute_result"
    }
   ],
   "source": [
    "rdd.collect()"
   ]
  },
  {
   "cell_type": "code",
   "execution_count": 25,
   "id": "4492b7c2",
   "metadata": {},
   "outputs": [
    {
     "data": {
      "text/plain": [
       "2"
      ]
     },
     "execution_count": 25,
     "metadata": {},
     "output_type": "execute_result"
    }
   ],
   "source": [
    "rdd_repartitioned = rdd.repartition(2)\n",
    "rdd_repartitioned.getNumPartitions()"
   ]
  },
  {
   "cell_type": "markdown",
   "id": "27426d5b",
   "metadata": {},
   "source": [
    "USED FOR :\n",
    "1. INCREASE THE NUMBER OF PARTITIONS\n",
    "2. BALANCE SKEWED DATA"
   ]
  },
  {
   "cell_type": "markdown",
   "id": "6be688fd",
   "metadata": {},
   "source": [
    "COALESCE : USED TO REDUCE THE NUMBER OF PARTITIONS WITHOUT SHUFFLING\n",
    "USE CASES: \n",
    "1. REDUCE THE NUMBER OF PARTIOTIONS BEFORE WRITE OPERATIONS\n",
    "2. MINIMIZE SHUFFLING: YOU KNOW THE DATA IS NOT SKEWED BUT THERE IS ALREADY TOO MANY PARTITIONS , YOU WANT REDUCE THE PARTITONS WITHOUT TOTAL SHUFFLING"
   ]
  },
  {
   "cell_type": "code",
   "execution_count": null,
   "id": "d35ba3d1",
   "metadata": {},
   "outputs": [],
   "source": []
  }
 ],
 "metadata": {
  "kernelspec": {
   "display_name": "Python 3 (ipykernel)",
   "language": "python",
   "name": "python3"
  },
  "language_info": {
   "codemirror_mode": {
    "name": "ipython",
    "version": 3
   },
   "file_extension": ".py",
   "mimetype": "text/x-python",
   "name": "python",
   "nbconvert_exporter": "python",
   "pygments_lexer": "ipython3",
   "version": "3.9.13"
  }
 },
 "nbformat": 4,
 "nbformat_minor": 5
}
